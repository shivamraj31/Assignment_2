{
 "cells": [
  {
   "cell_type": "code",
   "execution_count": 3,
   "id": "c4ea42cf-1c83-42dd-81dd-e83770c2f2e9",
   "metadata": {},
   "outputs": [
    {
     "name": "stdout",
     "output_type": "stream",
     "text": [
      "1\n",
      "2\n",
      "3\n",
      "4\n",
      "5\n",
      "1\n",
      "2\n",
      "3\n",
      "4\n",
      "5\n"
     ]
    }
   ],
   "source": [
    "#Q1. When to use for loop and while loop?\n",
    "#For Loop: Use when the number of iterations is known.\n",
    "for i in range(1, 6):\n",
    "    \n",
    "    print(i)  # Prints numbers 1 to 5\n",
    "#While Loop: Use when the condition depends on runtime logic.\n",
    "\n",
    "count = 1\n",
    "while count <= 5:\n",
    "    print(count)  # Prints numbers 1 to 5\n",
    "    count += 1\n"
   ]
  },
  {
   "cell_type": "code",
   "execution_count": 4,
   "id": "5333618f-3138-4819-86e8-770104d1d0b2",
   "metadata": {},
   "outputs": [
    {
     "ename": "SyntaxError",
     "evalue": "invalid syntax (3008632925.py, line 10)",
     "output_type": "error",
     "traceback": [
      "\u001b[1;36m  Cell \u001b[1;32mIn[4], line 10\u001b[1;36m\u001b[0m\n\u001b[1;33m    Using while loop:\u001b[0m\n\u001b[1;37m          ^\u001b[0m\n\u001b[1;31mSyntaxError\u001b[0m\u001b[1;31m:\u001b[0m invalid syntax\n"
     ]
    }
   ],
   "source": [
    "#Q2. Sum and Product of First 10 Natural Numbers:\n",
    "#using for loop:\n",
    "\n",
    "sum_ = 0\n",
    "product = 1\n",
    "for i in range(1, 11):\n",
    "    sum_ += i\n",
    "    product *= i\n",
    "print(\"Sum:\", sum_, \"Product:\", product)\n",
    "Using while loop:\n",
    "\n",
    "\n",
    "sum_ = 0\n",
    "product = 1\n",
    "i = 1\n",
    "while i <= 10:\n",
    "    sum_ += i\n",
    "    product *= i\n",
    "    i += 1\n",
    "print(\"Sum:\", sum_, \"Product:\", product)\n"
   ]
  },
  {
   "cell_type": "code",
   "execution_count": null,
   "id": "6120562d-4c6f-4adf-8116-c018a0ddbdac",
   "metadata": {},
   "outputs": [],
   "source": []
  }
 ],
 "metadata": {
  "kernelspec": {
   "display_name": "Python 3 (ipykernel)",
   "language": "python",
   "name": "python3"
  },
  "language_info": {
   "codemirror_mode": {
    "name": "ipython",
    "version": 3
   },
   "file_extension": ".py",
   "mimetype": "text/x-python",
   "name": "python",
   "nbconvert_exporter": "python",
   "pygments_lexer": "ipython3",
   "version": "3.11.7"
  }
 },
 "nbformat": 4,
 "nbformat_minor": 5
}
